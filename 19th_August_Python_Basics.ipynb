{
 "cells": [
  {
   "cell_type": "code",
   "execution_count": 1,
   "id": "32112827-d21d-44fe-86d5-e76a17918d9d",
   "metadata": {},
   "outputs": [],
   "source": [
    "#TOPIC: Python Basics Variable"
   ]
  },
  {
   "cell_type": "code",
   "execution_count": 2,
   "id": "dca31404-6286-4e68-918c-fc24c4b66695",
   "metadata": {},
   "outputs": [
    {
     "data": {
      "text/plain": [
       "'1. Declare two variables, `x` and `y`, and assign them integer values. Swap the\\nvalues of these variables without using any temporary variable.'"
      ]
     },
     "execution_count": 2,
     "metadata": {},
     "output_type": "execute_result"
    }
   ],
   "source": [
    "'''1. Declare two variables, `x` and `y`, and assign them integer values. Swap the\n",
    "values of these variables without using any temporary variable.'''"
   ]
  },
  {
   "cell_type": "code",
   "execution_count": 3,
   "id": "3d953166-95c8-4a33-bf97-e90a694c23b4",
   "metadata": {},
   "outputs": [],
   "source": [
    "x = 10"
   ]
  },
  {
   "cell_type": "code",
   "execution_count": 4,
   "id": "622523e1-1b14-4790-83a2-80022eb6b44b",
   "metadata": {},
   "outputs": [],
   "source": [
    "y = 20"
   ]
  },
  {
   "cell_type": "code",
   "execution_count": 6,
   "id": "eb09e558-a880-4c8d-86f4-1b73172f774a",
   "metadata": {},
   "outputs": [
    {
     "name": "stdout",
     "output_type": "stream",
     "text": [
      "x= 10\n"
     ]
    }
   ],
   "source": [
    "print(\"x=\",x)"
   ]
  },
  {
   "cell_type": "code",
   "execution_count": 7,
   "id": "a72adc5b-ae02-428d-971a-16743b026144",
   "metadata": {},
   "outputs": [
    {
     "name": "stdout",
     "output_type": "stream",
     "text": [
      "y= 20\n"
     ]
    }
   ],
   "source": [
    "print(\"y=\",y)"
   ]
  },
  {
   "cell_type": "code",
   "execution_count": 8,
   "id": "134c1688-a536-44cf-8d95-88ea7b590190",
   "metadata": {},
   "outputs": [],
   "source": [
    "x,y = y,x"
   ]
  },
  {
   "cell_type": "code",
   "execution_count": 9,
   "id": "b96a8874-a398-4b38-85fd-efaca0befc1d",
   "metadata": {},
   "outputs": [
    {
     "name": "stdout",
     "output_type": "stream",
     "text": [
      "x= 20\n"
     ]
    }
   ],
   "source": [
    "print(\"x=\",x)"
   ]
  },
  {
   "cell_type": "code",
   "execution_count": 10,
   "id": "fb684075-77d7-44c0-abfc-ccb62e5e8667",
   "metadata": {},
   "outputs": [
    {
     "name": "stdout",
     "output_type": "stream",
     "text": [
      "y= 10\n"
     ]
    }
   ],
   "source": [
    "print(\"y=\",y)"
   ]
  },
  {
   "cell_type": "code",
   "execution_count": 12,
   "id": "1c201654-e8d7-4159-bcc7-c66849bda96f",
   "metadata": {},
   "outputs": [
    {
     "data": {
      "text/plain": [
       "'2. Create a program that calculates the area of a rectangle. Take the length and\\nwidth as inputs from the user and store them in variables. Calculate and\\ndisplay the area.'"
      ]
     },
     "execution_count": 12,
     "metadata": {},
     "output_type": "execute_result"
    }
   ],
   "source": [
    "'''2. Create a program that calculates the area of a rectangle. Take the length and\n",
    "width as inputs from the user and store them in variables. Calculate and\n",
    "display the area.'''"
   ]
  },
  {
   "cell_type": "code",
   "execution_count": 13,
   "id": "e0fda1d2-e77e-4c22-b797-ac9d01abb17c",
   "metadata": {},
   "outputs": [
    {
     "name": "stdin",
     "output_type": "stream",
     "text": [
      "Enter the length of rectangle: 5\n"
     ]
    }
   ],
   "source": [
    "x = int(input(\"Enter the length of rectangle:\"))"
   ]
  },
  {
   "cell_type": "code",
   "execution_count": 14,
   "id": "8b8ec0c4-3e0d-49de-a4c6-df5655459079",
   "metadata": {},
   "outputs": [
    {
     "name": "stdin",
     "output_type": "stream",
     "text": [
      "Enter the width of rectangle: 6\n"
     ]
    }
   ],
   "source": [
    "y = int(input(\"Enter the width of rectangle:\"))"
   ]
  },
  {
   "cell_type": "code",
   "execution_count": 15,
   "id": "9dc2a745-0a29-4691-b87a-f34a7e0219da",
   "metadata": {},
   "outputs": [],
   "source": [
    "area = x*y"
   ]
  },
  {
   "cell_type": "code",
   "execution_count": 16,
   "id": "a5c338af-780b-4f31-8b89-4e0b805f3aa4",
   "metadata": {},
   "outputs": [
    {
     "name": "stdout",
     "output_type": "stream",
     "text": [
      "Area of rectangle 30\n"
     ]
    }
   ],
   "source": [
    "print(\"Area of rectangle\",area)"
   ]
  },
  {
   "cell_type": "code",
   "execution_count": 17,
   "id": "f75bcf8e-9036-483d-8dbf-15009fa1f1c6",
   "metadata": {},
   "outputs": [
    {
     "data": {
      "text/plain": [
       "'3. Write a Python program that converts temperatures from Celsius to\\nFahrenheit. Take the temperature in Celsius as input, store it in a variable,\\nconvert it to Fahrenheit, and display the result.'"
      ]
     },
     "execution_count": 17,
     "metadata": {},
     "output_type": "execute_result"
    }
   ],
   "source": [
    "'''3. Write a Python program that converts temperatures from Celsius to\n",
    "Fahrenheit. Take the temperature in Celsius as input, store it in a variable,\n",
    "convert it to Fahrenheit, and display the result.'''"
   ]
  },
  {
   "cell_type": "code",
   "execution_count": 18,
   "id": "974ffa4b-67d5-4326-a9b1-c8c7e85151b4",
   "metadata": {},
   "outputs": [
    {
     "name": "stdin",
     "output_type": "stream",
     "text": [
      "Celsius: 32\n"
     ]
    }
   ],
   "source": [
    "x = int(input(\"Celsius:\"))"
   ]
  },
  {
   "cell_type": "code",
   "execution_count": 19,
   "id": "847771ff-51c1-4886-b219-30725773e0e6",
   "metadata": {},
   "outputs": [],
   "source": [
    "fahrenheit = (x*9/5)+32"
   ]
  },
  {
   "cell_type": "code",
   "execution_count": 20,
   "id": "a2f8143f-6f5a-4f37-90c6-d544a4cb898a",
   "metadata": {},
   "outputs": [
    {
     "name": "stdout",
     "output_type": "stream",
     "text": [
      "32 degree Celsius is equal to fahrenheit of 89.6\n"
     ]
    }
   ],
   "source": [
    "print(x,\"degree Celsius is equal to fahrenheit of\",fahrenheit)"
   ]
  },
  {
   "cell_type": "code",
   "execution_count": 21,
   "id": "9f17a8ac-0871-44d9-8f52-d54a9d2b0b62",
   "metadata": {},
   "outputs": [],
   "source": [
    "#TOPIC: String Based Questions"
   ]
  },
  {
   "cell_type": "code",
   "execution_count": 22,
   "id": "bb67b5e5-71c1-4a84-a125-cc70c588cbc3",
   "metadata": {},
   "outputs": [
    {
     "data": {
      "text/plain": [
       "'1. Write a Python program that takes a string as input and prints the length of\\nthe string.'"
      ]
     },
     "execution_count": 22,
     "metadata": {},
     "output_type": "execute_result"
    }
   ],
   "source": [
    "'''1. Write a Python program that takes a string as input and prints the length of\n",
    "the string.'''"
   ]
  },
  {
   "cell_type": "code",
   "execution_count": 23,
   "id": "add1f5ab-2807-48c8-86d4-e60d694c58ba",
   "metadata": {},
   "outputs": [
    {
     "name": "stdin",
     "output_type": "stream",
     "text": [
      "Enter the string: Bhargav\n"
     ]
    }
   ],
   "source": [
    "s = input(\"Enter the string:\")"
   ]
  },
  {
   "cell_type": "code",
   "execution_count": 24,
   "id": "05d712c4-30bf-4c45-8db9-5708d933f347",
   "metadata": {},
   "outputs": [],
   "source": [
    "l = len(s)"
   ]
  },
  {
   "cell_type": "code",
   "execution_count": 25,
   "id": "ff47d13d-55cf-4376-bf31-e4fbff0939a8",
   "metadata": {},
   "outputs": [
    {
     "name": "stdout",
     "output_type": "stream",
     "text": [
      "Length of the string: 7\n"
     ]
    }
   ],
   "source": [
    "print(\"Length of the string:\",l)"
   ]
  },
  {
   "cell_type": "code",
   "execution_count": 26,
   "id": "9e1d08fe-3999-4dd1-9d8c-ebc0e74c27d9",
   "metadata": {},
   "outputs": [
    {
     "data": {
      "text/plain": [
       "'2. Create a program that takes a sentence from the user and counts the number\\nof vowels (a, e, i, o, u) in the string.'"
      ]
     },
     "execution_count": 26,
     "metadata": {},
     "output_type": "execute_result"
    }
   ],
   "source": [
    "'''2. Create a program that takes a sentence from the user and counts the number\n",
    "of vowels (a, e, i, o, u) in the string.'''"
   ]
  },
  {
   "cell_type": "code",
   "execution_count": 36,
   "id": "23bcee0b-0f56-4ee1-b3ac-26296be581c3",
   "metadata": {},
   "outputs": [
    {
     "name": "stdin",
     "output_type": "stream",
     "text": [
      "Enter a sentence:  welcome to python\n"
     ]
    },
    {
     "name": "stdout",
     "output_type": "stream",
     "text": [
      "The number of vowels in the sentence is: 5\n"
     ]
    }
   ],
   "source": [
    "sentence = input(\"Enter a sentence: \")\n",
    "\n",
    "# Count the number of vowels\n",
    "vowel_count = 0\n",
    "for char in sentence:\n",
    "    if char in \"aeiouAEIOU\":\n",
    "        vowel_count += 1\n",
    "\n",
    "print(\"The number of vowels in the sentence is:\", vowel_count)\n",
    "\n"
   ]
  },
  {
   "cell_type": "code",
   "execution_count": 37,
   "id": "3e31dc8a-c602-4064-aa5c-528d2706ae4e",
   "metadata": {},
   "outputs": [
    {
     "data": {
      "text/plain": [
       "'3. Given a string, reverse the order of characters using string slicing and print\\nthe reversed string.'"
      ]
     },
     "execution_count": 37,
     "metadata": {},
     "output_type": "execute_result"
    }
   ],
   "source": [
    "'''3. Given a string, reverse the order of characters using string slicing and print\n",
    "the reversed string.'''"
   ]
  },
  {
   "cell_type": "code",
   "execution_count": 38,
   "id": "050e9e35-9aad-4b5e-a07d-9c018882678b",
   "metadata": {},
   "outputs": [],
   "source": [
    "s = \"welcome to python\""
   ]
  },
  {
   "cell_type": "code",
   "execution_count": 39,
   "id": "b12c9da9-9250-4fe6-9e37-a424077b6bfd",
   "metadata": {},
   "outputs": [],
   "source": [
    "r = s[::-1]"
   ]
  },
  {
   "cell_type": "code",
   "execution_count": 41,
   "id": "4cf37454-8743-4002-a092-159976a5f3cf",
   "metadata": {},
   "outputs": [
    {
     "name": "stdout",
     "output_type": "stream",
     "text": [
      "The reversed string nohtyp ot emoclew\n"
     ]
    }
   ],
   "source": [
    "print(\"The reversed string\",r)"
   ]
  },
  {
   "cell_type": "code",
   "execution_count": 42,
   "id": "dfde1252-27bc-4dc9-99a9-940ec6a459e4",
   "metadata": {},
   "outputs": [
    {
     "data": {
      "text/plain": [
       "'4. Write a program that takes a string as input and checks if it is a palindrome\\n(reads the same forwards and backwards).'"
      ]
     },
     "execution_count": 42,
     "metadata": {},
     "output_type": "execute_result"
    }
   ],
   "source": [
    "'''4. Write a program that takes a string as input and checks if it is a palindrome\n",
    "(reads the same forwards and backwards).'''"
   ]
  },
  {
   "cell_type": "code",
   "execution_count": 43,
   "id": "75413fb6-d3a9-4a32-8590-f88605e7b522",
   "metadata": {},
   "outputs": [
    {
     "name": "stdin",
     "output_type": "stream",
     "text": [
      "Enter a string: bhargav\n"
     ]
    }
   ],
   "source": [
    "s = input(\"Enter a string:\")"
   ]
  },
  {
   "cell_type": "code",
   "execution_count": 44,
   "id": "42a9be93-559b-4a9a-84ec-deb16ba2263a",
   "metadata": {},
   "outputs": [],
   "source": [
    "string = s.replace(\" \",\" \").lower()"
   ]
  },
  {
   "cell_type": "code",
   "execution_count": 45,
   "id": "98f956bf-3662-4b80-9b87-a2ac617aa84e",
   "metadata": {},
   "outputs": [],
   "source": [
    "palindrome = string == string[::-1]"
   ]
  },
  {
   "cell_type": "code",
   "execution_count": 46,
   "id": "854efcdd-c14f-4594-9e51-94b5267e8caf",
   "metadata": {},
   "outputs": [
    {
     "name": "stdout",
     "output_type": "stream",
     "text": [
      "The string is not palindrome\n"
     ]
    }
   ],
   "source": [
    "if palindrome:\n",
    "    print(\"The string is palindrome\")\n",
    "else:\n",
    "    print(\"The string is not palindrome\")"
   ]
  },
  {
   "cell_type": "code",
   "execution_count": 47,
   "id": "baef7d26-3fd9-4cfd-82ad-b31ccfee72eb",
   "metadata": {},
   "outputs": [
    {
     "data": {
      "text/plain": [
       "'5. Create a program that takes a string as input and removes all the spaces from\\nit. Print the modified string without spaces.'"
      ]
     },
     "execution_count": 47,
     "metadata": {},
     "output_type": "execute_result"
    }
   ],
   "source": [
    "'''5. Create a program that takes a string as input and removes all the spaces from\n",
    "it. Print the modified string without spaces.'''"
   ]
  },
  {
   "cell_type": "code",
   "execution_count": 48,
   "id": "6109ed57-56dd-459b-bfaa-77d087014405",
   "metadata": {},
   "outputs": [
    {
     "name": "stdin",
     "output_type": "stream",
     "text": [
      "Enter a string: this is bhargav\n"
     ]
    }
   ],
   "source": [
    "s = input(\"Enter a string:\")"
   ]
  },
  {
   "cell_type": "code",
   "execution_count": 49,
   "id": "56b7530e-98a0-439f-8c7f-1231a226012a",
   "metadata": {},
   "outputs": [],
   "source": [
    "modified_string = s.replace(\" \" ,\"\")"
   ]
  },
  {
   "cell_type": "code",
   "execution_count": 50,
   "id": "3237ee23-ab87-4b42-a79e-bff81bc3a243",
   "metadata": {},
   "outputs": [
    {
     "name": "stdout",
     "output_type": "stream",
     "text": [
      "The string without spaces is : thisisbhargav\n"
     ]
    }
   ],
   "source": [
    "print(\"The string without spaces is :\",modified_string)"
   ]
  },
  {
   "cell_type": "code",
   "execution_count": null,
   "id": "414c01c6-5ff6-4e75-9ad4-c6bb8f650e58",
   "metadata": {},
   "outputs": [],
   "source": []
  }
 ],
 "metadata": {
  "kernelspec": {
   "display_name": "Python 3 (ipykernel)",
   "language": "python",
   "name": "python3"
  },
  "language_info": {
   "codemirror_mode": {
    "name": "ipython",
    "version": 3
   },
   "file_extension": ".py",
   "mimetype": "text/x-python",
   "name": "python",
   "nbconvert_exporter": "python",
   "pygments_lexer": "ipython3",
   "version": "3.10.8"
  }
 },
 "nbformat": 4,
 "nbformat_minor": 5
}
